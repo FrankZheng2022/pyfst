{
 "cells": [
  {
   "cell_type": "code",
   "execution_count": 1,
   "metadata": {},
   "outputs": [],
   "source": [
    "import numpy as np\n",
    "\n",
    "import os\n",
    "\n"
   ]
  },
  {
   "cell_type": "code",
   "execution_count": 2,
   "metadata": {},
   "outputs": [],
   "source": [
    "from mpl_toolkits.mplot3d import Axes3D\n",
    "import matplotlib.pyplot as plt\n",
    "from matplotlib import cm\n",
    "from matplotlib.ticker import LinearLocator, FormatStrFormatter\n",
    "import numpy as np"
   ]
  },
  {
   "cell_type": "code",
   "execution_count": 225,
   "metadata": {},
   "outputs": [],
   "source": [
    "import hyper_pixelNN as hsinn"
   ]
  },
  {
   "cell_type": "code",
   "execution_count": 228,
   "metadata": {},
   "outputs": [
    {
     "data": {
      "text/plain": [
       "<module 'hyper_pixelNN' from 'hyper_pixelNN.py'>"
      ]
     },
     "execution_count": 228,
     "metadata": {},
     "output_type": "execute_result"
    }
   ],
   "source": [
    "reload(hsinn)"
   ]
  },
  {
   "cell_type": "code",
   "execution_count": 3,
   "metadata": {},
   "outputs": [],
   "source": [
    "%matplotlib ipympl\n",
    "\n",
    "import matplotlib.pyplot as plt\n",
    "import matplotlib.image as mpimg\n",
    "import ipympl"
   ]
  },
  {
   "cell_type": "code",
   "execution_count": 283,
   "metadata": {},
   "outputs": [],
   "source": [
    "def str_to_spatial_spectral_receptive_field_size(s):\n",
    "    \"\"\"\n",
    "    Coming in in (b,h,w)\n",
    "    \"\"\"\n",
    "    filters = s.split('_')\n",
    "    filters = [f.split('-') for f in filters]\n",
    "    filters = [[int(n) for n in f] for f in filters]\n",
    "    psi1, psi2, phi = filters\n",
    "    b1,h1,_ = psi1\n",
    "    b2,h2,_ = psi2\n",
    "    b3,h3,_ = phi\n",
    "    # return (h1+h2+h3+2, b1+b2+b3+2)\n",
    "    # multiply by 3 in spectral bc there is downsampling there\n",
    "    return (h1+h2+h3-2, b1*3+b2*3+b3*3-2)"
   ]
  },
  {
   "cell_type": "code",
   "execution_count": 279,
   "metadata": {},
   "outputs": [],
   "source": [
    "def results_to_grid(result_dict):\n",
    "\n",
    "    winds = set()\n",
    "    bands = set()\n",
    "    best_acc = 0\n",
    "    for k, v in result_dict.iteritems():\n",
    "        w, b = str_to_spatial_spectral_receptive_field_size(k)\n",
    "        winds.add(w)\n",
    "        bands.add(b)\n",
    "        best_acc = max(best_acc, sum(v) / float(len(v)))\n",
    "    winds = sorted(list(winds))\n",
    "    bands = sorted(list(bands))\n",
    "    Z = np.zeros((len(winds), len(bands)))\n",
    "#     Z[:,:] = np.nan\n",
    "    \n",
    "    for k, v in result_dict.iteritems():\n",
    "        w, b = str_to_spatial_spectral_receptive_field_size(k)\n",
    "        i = winds.index(w)\n",
    "        j = bands.index(b)\n",
    "        acc = sum(v) / float(len(v))\n",
    "        if acc == best_acc:\n",
    "            print('Best acc (%.1f) is for: %s' % (best_acc * 100, k) )\n",
    "        if Z[i,j] != 0:\n",
    "            print('Conflict: %s' % k)\n",
    "        if Z[i,j] < acc:\n",
    "            Z[i,j] = acc\n",
    "        \n",
    "    X, Y = np.meshgrid(np.array(bands),winds)\n",
    "    \n",
    "    return X, Y, Z"
   ]
  },
  {
   "cell_type": "code",
   "execution_count": 280,
   "metadata": {},
   "outputs": [],
   "source": [
    "def tap2wavelength(M, dataset):\n",
    "    \"\"\"Converts tap lengths to nm for a dataset's spectral axis.\n",
    "    \"\"\"\n",
    "    return M*hsinn.bandwidth_dict[dataset]\n",
    "\n",
    "def tap2meters(M, dataset):\n",
    "    \"\"\"Converts tap lengths to meters for a dataset's spatial axis.\n",
    "    \"\"\"\n",
    "    return M*hsinn.spatial_res_dict[dataset] \n",
    "    "
   ]
  },
  {
   "cell_type": "code",
   "execution_count": 295,
   "metadata": {},
   "outputs": [],
   "source": [
    "npz_name = '/scratch0/ilya/locDoc/pyfst/gridsearch_KSC_singlesite_s03_10trials.npz'\n",
    "npz_name = '/scratch0/ilya/locDoc/pyfst/gridsearch_Bots_singlesite_s03_10trials.npz'\n",
    "npz_name = '/scratch0/ilya/locDoc/pyfst/gridsearch_paviaU_s03_10trials_full.npz'\n",
    "npz_name = '/scratch0/ilya/locDoc/pyfst/gridsearch_KSC_singlesite_s03_10trials_new.npz'\n",
    "#npz_name = '/scratch0/ilya/locDoc/pyfst/gridsearch_Bots_singlesite_s03_10trials_new.npz'\n",
    "#npz_name = '/scratch0/ilya/locDoc/pyfst/gridsearch_paviaU_s50_10trials_full_new.npz'\n"
   ]
  },
  {
   "cell_type": "code",
   "execution_count": 207,
   "metadata": {},
   "outputs": [],
   "source": [
    "\n",
    "npz_name = '/scratch0/ilya/locDoc/pyfst/gridsearch_paviaU_s200_3trials.npz'\n",
    "npz_name = '/scratch0/ilya/locDoc/pyfst/gridsearch_paviaU_s50_10trials.npz'\n",
    "npz_name = '/scratch0/ilya/locDoc/pyfst/gridsearch_paviaU_s03_10trials_full_new.npz'\n",
    "npz_name = '/scratch0/ilya/locDoc/pyfst/gridsearch_paviaU_s03_10trials.npz'\n",
    "\n"
   ]
  },
  {
   "cell_type": "code",
   "execution_count": 296,
   "metadata": {},
   "outputs": [],
   "source": [
    "results = np.load(npz_name)['results'].item()"
   ]
  },
  {
   "cell_type": "code",
   "execution_count": 162,
   "metadata": {},
   "outputs": [],
   "source": [
    "# add to results\n",
    "npz_name = '/scratch0/ilya/locDoc/pyfst/gridsearch_KSC_singlesite_s03_10trials_append9.npz'\n",
    "npz_name = '/scratch0/ilya/locDoc/pyfst/gridsearch_Bots_singlesite_s03_10trials_append9.npz'\n",
    "\n",
    "for k,v in np.load(npz_name)['results'].item().iteritems():\n",
    "    #print([k,sum(v) / len(v)])\n",
    "    results[k] = v"
   ]
  },
  {
   "cell_type": "code",
   "execution_count": 297,
   "metadata": {},
   "outputs": [
    {
     "name": "stdout",
     "output_type": "stream",
     "text": [
      "Conflict: 3-5-5_3-5-5_3-5-5\n",
      "Conflict: 7-5-5_7-5-5_7-5-5\n",
      "Best acc (71.2) is for: 5-9-9_5-7-7_5-7-7\n",
      "Conflict: 9-5-5_9-5-5_9-5-5\n",
      "Conflict: 5-9-9_5-3-3_5-3-3\n"
     ]
    }
   ],
   "source": [
    "X, Y, Z = results_to_grid(results)\n",
    "dataset = 'KSC'\n",
    "#dataset = 'Botswana'"
   ]
  },
  {
   "cell_type": "code",
   "execution_count": 298,
   "metadata": {},
   "outputs": [
    {
     "data": {
      "text/plain": [
       "[0.7556071152358855,\n",
       " 0.6376643464810519,\n",
       " 0.7469064191802011,\n",
       " 0.7248646558391338,\n",
       " 0.7088167053364269,\n",
       " 0.7378190255220418,\n",
       " 0.7134570765661253,\n",
       " 0.7146171693735499,\n",
       " 0.7165506573859242,\n",
       " 0.6653132250580046]"
      ]
     },
     "execution_count": 298,
     "metadata": {},
     "output_type": "execute_result"
    }
   ],
   "source": [
    "results['5-9-9_5-7-7_5-7-7']"
   ]
  },
  {
   "cell_type": "code",
   "execution_count": 169,
   "metadata": {},
   "outputs": [],
   "source": [
    "# fill Z with nan if no accuracy was recorded\n",
    "for i in range(Z.shape[0]):\n",
    "    for j in range(Z.shape[1]):\n",
    "        if Z[i,j] == 0:\n",
    "            Z[i,j] = np.nan\n"
   ]
  },
  {
   "cell_type": "code",
   "execution_count": 172,
   "metadata": {},
   "outputs": [],
   "source": [
    "# cut off the row with missing values\n",
    "Z = Z[:,:3]\n",
    "X = X[:,:3]\n",
    "Y = Y[:,:3]"
   ]
  },
  {
   "cell_type": "code",
   "execution_count": 292,
   "metadata": {},
   "outputs": [],
   "source": [
    "X = tap2wavelength(X, dataset)\n",
    "Y = tap2meters(Y, dataset)"
   ]
  },
  {
   "cell_type": "code",
   "execution_count": 293,
   "metadata": {},
   "outputs": [
    {
     "name": "stdout",
     "output_type": "stream",
     "text": [
      "Best receptive field was 529.34 nm, 450.00 m\n"
     ]
    }
   ],
   "source": [
    "bi, bj = [Z.argmax() // Z.shape[1], Z.argmax() % Z.shape[1]]\n",
    "print('Best receptive field was %.2f nm, %.2f m' % (X[bi,bj], Y[bi,bj]))"
   ]
  },
  {
   "cell_type": "code",
   "execution_count": 286,
   "metadata": {},
   "outputs": [],
   "source": [
    "plt.close('all')"
   ]
  },
  {
   "cell_type": "code",
   "execution_count": 294,
   "metadata": {},
   "outputs": [
    {
     "data": {
      "application/vnd.jupyter.widget-view+json": {
       "model_id": "b1f67409031c4ccaad055bd148f65f33",
       "version_major": 2,
       "version_minor": 0
      },
      "text/html": [
       "<p>Failed to display Jupyter Widget of type <code>FigureCanvasNbAgg</code>.</p>\n",
       "<p>\n",
       "  If you're reading this message in the Jupyter Notebook or JupyterLab Notebook, it may mean\n",
       "  that the widgets JavaScript is still loading. If this message persists, it\n",
       "  likely means that the widgets JavaScript library is either not installed or\n",
       "  not enabled. See the <a href=\"https://ipywidgets.readthedocs.io/en/stable/user_install.html\">Jupyter\n",
       "  Widgets Documentation</a> for setup instructions.\n",
       "</p>\n",
       "<p>\n",
       "  If you're reading this message in another frontend (for example, a static\n",
       "  rendering on GitHub or <a href=\"https://nbviewer.jupyter.org/\">NBViewer</a>),\n",
       "  it may mean that your frontend doesn't currently support widgets.\n",
       "</p>\n"
      ],
      "text/plain": [
       "FigureCanvasNbAgg()"
      ]
     },
     "metadata": {},
     "output_type": "display_data"
    },
    {
     "data": {
      "text/plain": [
       "Text(0.5,0,u'Accuracy')"
      ]
     },
     "execution_count": 294,
     "metadata": {},
     "output_type": "execute_result"
    }
   ],
   "source": [
    "fig = plt.figure()\n",
    "ax = fig.gca(projection='3d')\n",
    "\n",
    "real_Z = [z for z in Z.flatten() if not np.isnan(z)]\n",
    "\n",
    "# Plot the surface.\n",
    "# surf = ax.plot_surface(X, Y, Z, cmap=cm.coolwarm, linewidth=0, antialiased=False, vmin=min(real_Z), vmax=max(real_Z))\n",
    "\n",
    "# Plot the wireframe\n",
    "norm = plt.Normalize(Z.min(), Z.max())\n",
    "colors = cm.coolwarm(norm(Z))\n",
    "rcount, ccount, _ = colors.shape\n",
    "surf = ax.plot_surface(X, Y, Z, rcount=rcount, ccount=ccount,\n",
    "                       facecolors=colors, shade=False, linewidth=4)\n",
    "surf.set_facecolor((0,0,0,0))\n",
    "\n",
    "# Customize the z axis.\n",
    "\n",
    "ax.set_zlim(min(real_Z), max(real_Z))\n",
    "ax.zaxis.set_major_locator(LinearLocator(10))\n",
    "ax.zaxis.set_major_formatter(FormatStrFormatter('%.02f'))\n",
    "ax.set_xlabel('Spectral Receptive Field (nm)')\n",
    "ax.set_ylabel('Spatial Receptive Field (m)')\n",
    "ax.set_zlabel('Accuracy')\n",
    "\n",
    "# Add a color bar which maps values to colors.\n",
    "#fig.colorbar(surf, shrink=0.5, aspect=5)"
   ]
  },
  {
   "cell_type": "code",
   "execution_count": null,
   "metadata": {},
   "outputs": [],
   "source": []
  }
 ],
 "metadata": {
  "kernelspec": {
   "display_name": "Python 2",
   "language": "python",
   "name": "python2"
  },
  "language_info": {
   "codemirror_mode": {
    "name": "ipython",
    "version": 2
   },
   "file_extension": ".py",
   "mimetype": "text/x-python",
   "name": "python",
   "nbconvert_exporter": "python",
   "pygments_lexer": "ipython2",
   "version": "2.7.17"
  }
 },
 "nbformat": 4,
 "nbformat_minor": 2
}
